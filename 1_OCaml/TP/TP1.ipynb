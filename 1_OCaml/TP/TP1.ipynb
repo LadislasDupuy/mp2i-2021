{
 "cells": [
  {
   "cell_type": "markdown",
   "id": "ab777a7b",
   "metadata": {},
   "source": [
    "# Types\n",
    "\n",
    "Devinez le type des fonctions suivantes et vérifier avec OCaml :\n",
    "```ocaml\n",
    "let f x y = x**y\n",
    "```\n",
    "```ocaml\n",
    "let g x y = x (y + 1)\n",
    "```\n",
    "```ocaml\n",
    "let h x y z = x (3. *. (y z)) + 1\n",
    "```\n",
    "Puis utilisez ces fonctions sur des arguments de votre choix."
   ]
  },
  {
   "cell_type": "markdown",
   "id": "056a0f84-a08b-4e13-9a74-fea48f69c1da",
   "metadata": {},
   "source": [
    "type de \"let f x y = x* * y\" :\n",
    "float -> float -> float"
   ]
  },
  {
   "cell_type": "code",
   "execution_count": 2,
   "id": "1620eeb9-a0a8-4482-9ea7-461c64a07652",
   "metadata": {},
   "outputs": [
    {
     "data": {
      "text/plain": [
       "val f : float -> float -> float = <fun>\n"
      ]
     },
     "execution_count": 2,
     "metadata": {},
     "output_type": "execute_result"
    }
   ],
   "source": [
    "let f x y = x**y"
   ]
  },
  {
   "cell_type": "markdown",
   "id": "bf43b988-38ee-490c-a40f-9b498d457f64",
   "metadata": {},
   "source": [
    "type de \"let g x y = x (y + 1)\" :\n",
    "(int -> 'a) -> int -> 'a"
   ]
  },
  {
   "cell_type": "code",
   "execution_count": 3,
   "id": "777e81cd-f77c-4729-9011-66b0e8e4e8f2",
   "metadata": {},
   "outputs": [
    {
     "data": {
      "text/plain": [
       "val g : (int -> 'a) -> int -> 'a = <fun>\n"
      ]
     },
     "execution_count": 3,
     "metadata": {},
     "output_type": "execute_result"
    }
   ],
   "source": [
    "let g x y = x (y + 1)"
   ]
  },
  {
   "cell_type": "markdown",
   "id": "66359982-74c7-4ba5-8498-4feaf836ee8e",
   "metadata": {},
   "source": [
    "type de \"let h x y z = x (3. * . (y z)) + 1\"\n",
    "(float -> int) -> ('a -> float) -> 'a -> int"
   ]
  },
  {
   "cell_type": "code",
   "execution_count": 4,
   "id": "a61373d2-b56b-4478-924c-e7eaff9488cb",
   "metadata": {},
   "outputs": [
    {
     "data": {
      "text/plain": [
       "val h : (float -> int) -> ('a -> float) -> 'a -> int = <fun>\n"
      ]
     },
     "execution_count": 4,
     "metadata": {},
     "output_type": "execute_result"
    }
   ],
   "source": [
    "let h x y z = x (3. *. (y z)) + 1"
   ]
  },
  {
   "cell_type": "markdown",
   "id": "d1f941db",
   "metadata": {},
   "source": [
    "# Tangente hyperbolique\n",
    "\n",
    "Définir en OCaml la fonction $\\tanh : x \\longmapsto \\frac{e^x - e^{-x}}{e^x + e^{-x}}$ en utilisant un seul appel à la fonction `exp : float -> float` de OCaml."
   ]
  },
  {
   "cell_type": "code",
   "execution_count": 3,
   "id": "2ad48b57-ad11-4d2a-832f-b529704ebaaf",
   "metadata": {},
   "outputs": [
    {
     "data": {
      "text/plain": [
       "val tanh2 : float -> float = <fun>\n"
      ]
     },
     "execution_count": 3,
     "metadata": {},
     "output_type": "execute_result"
    },
    {
     "data": {
      "text/plain": [
       "- : float = 0.761594155955764851\n"
      ]
     },
     "execution_count": 3,
     "metadata": {},
     "output_type": "execute_result"
    }
   ],
   "source": [
    "let tanh2 x =\n",
    "    let e = exp x in\n",
    "    (e -. e**(-. 1.)) /. (e +. e**(-. 1.));;\n",
    "\n",
    "tanh2 1."
   ]
  },
  {
   "cell_type": "markdown",
   "id": "41933741",
   "metadata": {},
   "source": [
    "# Géométrie\n",
    "\n",
    "Le type `float*float` désigne un couple de flottant, représentant un point `p` dans $\\mathbb{R}^2$. On peut récupérer les coordonnées de `p` avec `let x, y = p` . Par exemple :"
   ]
  },
  {
   "cell_type": "code",
   "execution_count": 1,
   "id": "806f1fc7",
   "metadata": {
    "execution": {
     "iopub.execute_input": "2021-09-06T17:02:34.763878Z",
     "iopub.status.busy": "2021-09-06T17:02:34.763495Z",
     "iopub.status.idle": "2021-09-06T17:02:34.765416Z",
     "shell.execute_reply": "2021-09-06T17:02:34.764999Z"
    }
   },
   "outputs": [
    {
     "data": {
      "text/plain": [
       "- : float = 2.1\n"
      ]
     },
     "execution_count": 1,
     "metadata": {},
     "output_type": "execute_result"
    }
   ],
   "source": [
    "let p = (2.1, 3.7) in (* exemple de point *)\n",
    "let x, y = p in (* récupération des coordonnées *)\n",
    "x;; (* affichage de x *)"
   ]
  },
  {
   "cell_type": "markdown",
   "id": "10984cbc",
   "metadata": {},
   "source": [
    "**Exercice** Écrire une fonction `aire_boule : float -> float` telle que `aire_boule r` renvoie l'aire d'une boule (disque en dimension 3) de rayon `r`, c'est à dire $\\frac{4 \\pi r^3}{3}$. On pourra utiliser `Float.pi`."
   ]
  },
  {
   "cell_type": "code",
   "execution_count": 4,
   "id": "4f097c9f-afa2-4c87-827d-44d788438954",
   "metadata": {},
   "outputs": [
    {
     "data": {
      "text/plain": [
       "val aire_boule : float -> float = <fun>\n"
      ]
     },
     "execution_count": 4,
     "metadata": {},
     "output_type": "execute_result"
    },
    {
     "data": {
      "text/plain": [
       "- : float = 113.097335529232552\n"
      ]
     },
     "execution_count": 4,
     "metadata": {},
     "output_type": "execute_result"
    }
   ],
   "source": [
    "let aire_boule r = \n",
    "    let x = Float.pi in \n",
    "    (4. *. x *. r**3. )/. 3. ;;\n",
    "\n",
    "aire_boule 3."
   ]
  },
  {
   "cell_type": "markdown",
   "id": "5e8ad51b",
   "metadata": {},
   "source": [
    "**Exercice** Écrire une fonction `distance : float*float -> float*float -> float` telle que `distance p1 p2` renvoie la distance euclidienne entre les points `p1` et `p2`.  \n",
    "Vérifier que la distance entre $(0, 0)$ et $(1, 1)$ est (approximativement) $\\sqrt{2}$."
   ]
  },
  {
   "cell_type": "code",
   "execution_count": 2,
   "id": "641eb899-67ea-45d9-81ac-bdd98cce33d1",
   "metadata": {},
   "outputs": [
    {
     "data": {
      "text/plain": [
       "val distance : float * float -> float * float -> float = <fun>\n"
      ]
     },
     "execution_count": 2,
     "metadata": {},
     "output_type": "execute_result"
    },
    {
     "data": {
      "text/plain": [
       "- : float = 1.41421356237309515\n"
      ]
     },
     "execution_count": 2,
     "metadata": {},
     "output_type": "execute_result"
    }
   ],
   "source": [
    "let distance p1 p2 = \n",
    "    let x1 , y1 = p1 in\n",
    "    let x2 , y2 = p2 in\n",
    "    ((x1 -. x2)**2. +. (y1 -. y2)**2. )**(0.5) ;;\n",
    "\n",
    "distance (0.,0.) (1.,1.)"
   ]
  },
  {
   "cell_type": "markdown",
   "id": "1addbddd",
   "metadata": {},
   "source": [
    "**Exercice** Écrire une fonction `polaire : float*float -> float*float` qui, étant donné les coordonnées polaires $(r, \\theta)$ d'un point, renvoie ses coordonnées cartésiennes $(x, y)$. On rappelle que $x = r\\cos(\\theta)$ et $y = r\\sin(\\theta)$. On pourra utiliser `cos` et `sin` en OCaml."
   ]
  },
  {
   "cell_type": "code",
   "execution_count": 6,
   "id": "cf57f32b-9232-4aeb-a02c-7281cd273600",
   "metadata": {},
   "outputs": [
    {
     "data": {
      "text/plain": [
       "val polaire : float * float -> float * float = <fun>\n"
      ]
     },
     "execution_count": 6,
     "metadata": {},
     "output_type": "execute_result"
    },
    {
     "data": {
      "text/plain": [
       "- : float * float = (1.41421356237309515, -0.78539816339744839)\n"
      ]
     },
     "execution_count": 6,
     "metadata": {},
     "output_type": "execute_result"
    },
    {
     "ename": "interrupt",
     "evalue": "intterupt",
     "output_type": "error",
     "traceback": [
      "\u001b[31mException: Sys.Break.\u001b[0m"
     ]
    }
   ],
   "source": [
    "let polaire p =\n",
    "    let x , y = p in\n",
    "    (x**2. +. y**2. )**(0.5) , (2. *. atan (y /. (x +. (x**2. +. y**2. )**(0.5)))) ;;\n",
    "    \n",
    "polaire (1.,-.1.)"
   ]
  },
  {
   "cell_type": "markdown",
   "id": "785b28a3",
   "metadata": {},
   "source": [
    "**Exercice** Écrire une fonction `milieu : float*float -> float*float -> float*float` telle que `milieu p1 p2` renvoie le milieu du segment d'extrémités `p1` et `p2`."
   ]
  },
  {
   "cell_type": "code",
   "execution_count": 2,
   "id": "19578cb5-f6b4-4f74-a06f-4c9ea1464279",
   "metadata": {},
   "outputs": [
    {
     "data": {
      "text/plain": [
       "val milieu : float * float -> float * float -> float * float = <fun>\n"
      ]
     },
     "execution_count": 2,
     "metadata": {},
     "output_type": "execute_result"
    },
    {
     "data": {
      "text/plain": [
       "- : float * float = (0.5, 0.5)\n"
      ]
     },
     "execution_count": 2,
     "metadata": {},
     "output_type": "execute_result"
    }
   ],
   "source": [
    "let milieu p1 p2 = \n",
    "    let x1 , y1 = p1 in\n",
    "    let x2 , y2 = p2 in \n",
    "    ((x1 +. x2) /. 2.) , ((y1 +. y2) /. 2.) ;;\n",
    "    \n",
    "milieu (0.,0.) (1.,1.)"
   ]
  },
  {
   "cell_type": "markdown",
   "id": "87cda927",
   "metadata": {},
   "source": [
    "**Exercice** Écrire une fonction `parallelogramme : float*float -> float*float -> float*float -> float*float -> bool` telle que `parallelogramme p1 p2 p3 p4` renvoie `true` si les points `p1`, `p1`, `p1`, `p1` forment un parallélogramme, c'est à dire si les côtés opposés sont (approximativement) de même longueur.  \n",
    "On fera attention à ne pas comparer 2 flottants avec `=`, mais regarder à la place si la différence est petite (< 0.001 par exemple)."
   ]
  },
  {
   "cell_type": "code",
   "execution_count": 9,
   "id": "7fc35b73-556e-4764-9608-4d57b63d1025",
   "metadata": {},
   "outputs": [
    {
     "data": {
      "text/plain": [
       "val parallelogramme :\n",
       "  float * float -> float * float -> float * float -> float * float -> bool =\n",
       "  <fun>\n"
      ]
     },
     "execution_count": 9,
     "metadata": {},
     "output_type": "execute_result"
    },
    {
     "data": {
      "text/plain": [
       "- : bool = false\n"
      ]
     },
     "execution_count": 9,
     "metadata": {},
     "output_type": "execute_result"
    }
   ],
   "source": [
    "let parallelogramme p1 p2 p3 p4 = \n",
    "    let x1 , y1 = p1 in\n",
    "    let x2 , y2 = p2 in \n",
    "    let x3 , y3 = p3 in \n",
    "    let x4 , y4 = p4 in \n",
    "    ((x1 -. x2)**2. +. (y1 -. y2)**2. )**(0.5) -. ((x3 -. x4)**2. +. (y3 -. y4)**2. )**(0.5) < 0.001 &&\n",
    "    ((x1 -. x3)**2. +. (y1 -. y3)**2. )**(0.5) -. ((x2 -. x4)**2. +. (y2 -. y4)**2. )**(0.5) < 0.001 ;;\n",
    "    \n",
    "parallelogramme (0.,17.) (1.,1.) (3.,3.) (4.,4.)"
   ]
  },
  {
   "cell_type": "markdown",
   "id": "044d6db1",
   "metadata": {
    "tags": []
   },
   "source": [
    "# Congruence\n",
    "\n",
    "Le but de cet exercice est de calculer $1357^{2013}$ mod $5$ (mais la méthode utilisée s'applique dans un grande nombre d'exercices mathématiques).  \n",
    "On rappelle que les congruences sont compatibles avec la puissance :\n",
    "$$a \\equiv b [n] \\Longrightarrow a^k \\equiv b^k [n]$$\n",
    "\n",
    "1. Soit $k$ un entier positif. Que vaut $2^{4k}$ mod $5$? On pourra calculer des valeurs avec OCaml puis le démontrer mathématiquement.\n",
    "2. Que vaut $1357$ mod $5$? En déduire la valeur de $1357^{2013}$ mod $5$."
   ]
  },
  {
   "cell_type": "markdown",
   "id": "5b38d879-c9f2-40ba-9c21-106d382bb352",
   "metadata": {},
   "source": [
    "Soit k un entier positif,\n",
    "2^4 = 16\n",
    "2^4 mod 5 = 16 mod 5 = 1\n",
    "2^4k mod 5 = 1^k mod 5 = 1"
   ]
  },
  {
   "cell_type": "markdown",
   "id": "95b313f4",
   "metadata": {},
   "source": [
    "# Nombres aléatoires\n",
    "\n",
    "`Random.int n` permet d'obtenir un entier uniformément au hasard entre 0 et `n - 1` (chacun de ces entiers a la même probabilité $\\frac{1}{n}$ d'être obtenu).  \n",
    "Dans cet exercice, on imagine que l'on possède comme seule source aléatoire un dé à 5 faces (c'est à dire que l'on a seulement le droit d'utiliser `Random.int 5`).\n",
    "\n",
    "1. Calculer `(Random.int 5) + (Random.int 5)` plusieurs fois. Est-ce que le résultat vous semble être un entier uniformément au hasard entre 0 et 8?  \n",
    "2. Quelle est la probabilité d'obtenir `0` avec `(Random.int 5) + (Random.int 5)`? D'obtenir `1`? Quelle est l'entier qui a le plus de chances d'apparaître?\n",
    "3. Comment générer uniformément un entier entre 0 et 24? (C'est à dire passer de 5 possibilités à 25)\n",
    "3. Comment générer uniformément un entier entre 0 et 6? Écrire une fonction pour le faire. On utilisera une méthode par rejection (rejection sampling) : générer dans un espace plus grand et regénérer si la valeur n'est pas dans l'intervalle souhaité.  \n",
    "Pour cela on utilisera une boucle while :\n",
    "```ocaml\n",
    "while ... do\n",
    "    ...\n",
    "done\n",
    "```"
   ]
  },
  {
   "cell_type": "markdown",
   "id": "c7599ba2-72a9-4d74-882f-11f82019ddbf",
   "metadata": {},
   "source": [
    "1)\n",
    "Le résultat semble en effet être un entier au hasard entre 0 et 8 mais a l'air plus rare pour 0 et 8."
   ]
  },
  {
   "cell_type": "markdown",
   "id": "dd361d84-798c-4b45-8c1e-e2a3c136b8b5",
   "metadata": {},
   "source": [
    "2)\n",
    "La probabilité d'obtenir 0 avec (Random.int 5) + (Random.int 5) est de 1/25 car c'est la probabilité d'avoir 0 sur la première commande, soit 1/5, multipliée par la probabilité d'avoir 0 sur la deuxième commande, soit 1/5 également.\n",
    "Pour obtenir 1, c'est la probabilité d'obtenir 0 puis 1 ou 1 puis 0 : 1/5 * 1/5 + 1/5 * 1/5 = 2/25.\n",
    "L'entier qui a le plus de chances d'apparaître est 5 puisqu'il s'agit de l'entier qui est la somme du plus grand nombre de combinaisons de 2 chiffres."
   ]
  },
  {
   "cell_type": "markdown",
   "id": "145da440-7c50-470c-bda8-b84a7dadff14",
   "metadata": {},
   "source": [
    "3)\n",
    "On peut faire : (Random.int 5) + (Random.int 5) + (Random.int 5) + (Random.int 5)\n",
    "Les valeurs limites seront 0 et 24 et seront toutes potentiellement atteintes."
   ]
  }
 ],
 "metadata": {
  "kernelspec": {
   "display_name": "OCaml default",
   "language": "OCaml",
   "name": "ocaml-jupyter"
  },
  "language_info": {
   "codemirror_mode": "text/x-ocaml",
   "file_extension": ".ml",
   "mimetype": "text/x-ocaml",
   "name": "OCaml",
   "nbconverter_exporter": null,
   "pygments_lexer": "OCaml",
   "version": "4.08.1"
  }
 },
 "nbformat": 4,
 "nbformat_minor": 5
}
